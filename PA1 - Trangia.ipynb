{
 "cells": [
  {
   "cell_type": "markdown",
   "id": "dea99f56-0f6b-4e8f-a7da-8e4dda6cdd80",
   "metadata": {},
   "source": [
    "### <center> EXPERIMENT 1\n",
    "## <center> INTRODUCTION TO PYTHON PROGRAMMING"
   ]
  },
  {
   "cell_type": "markdown",
   "id": "216be060-b3e9-4491-ad11-221324ae3724",
   "metadata": {},
   "source": [
    "##### Name: TRANGIA, Klein Isshi G.\n",
    "##### Section: 2ECE-B\n",
    "##### Date Submitted: August 26, 2025"
   ]
  },
  {
   "cell_type": "markdown",
   "id": "4785b810-fbfe-4206-9fab-ee2fcc0b98bd",
   "metadata": {},
   "source": [
    "#### __1. ALPHABET SOUP PROBLEM__: Create a function that takes a string and returns a string with its letters in alphabetical order."
   ]
  },
  {
   "cell_type": "code",
   "execution_count": 31,
   "id": "25d6ad29-4c92-4c8f-bb42-be038435a89b",
   "metadata": {},
   "outputs": [],
   "source": [
    "def alphabet_soup (s):\n",
    "    str =''.join(sorted(s))\n",
    "    return str"
   ]
  },
  {
   "cell_type": "code",
   "execution_count": 15,
   "id": "63f949e0-8fc2-4090-99ef-ce2c92ae91af",
   "metadata": {},
   "outputs": [
    {
     "name": "stdout",
     "output_type": "stream",
     "text": [
      "eikln\n"
     ]
    }
   ],
   "source": [
    "print (alphabet_soup(\"klein\"))"
   ]
  },
  {
   "cell_type": "code",
   "execution_count": 17,
   "id": "82ab44c3-b307-4306-996e-f64d06ca9bd6",
   "metadata": {},
   "outputs": [
    {
     "name": "stdout",
     "output_type": "stream",
     "text": [
      "hiiss\n"
     ]
    }
   ],
   "source": [
    "print (alphabet_soup(\"isshi\"))"
   ]
  },
  {
   "cell_type": "markdown",
   "id": "cd6b1c0b-cbc1-4c18-9425-5ff282ab0876",
   "metadata": {},
   "source": [
    "#### __2. EMOTICON PROBLEM__: Create a function that changes specific words into emoticons. Given a sentence as a string, replace the words smile, grin, sad, and mad with their corresponding emoticon:"
   ]
  },
  {
   "cell_type": "code",
   "execution_count": 24,
   "id": "d5d287b9-5b8c-41c9-b30a-18c7b617e7b0",
   "metadata": {},
   "outputs": [
    {
     "name": "stdin",
     "output_type": "stream",
     "text": [
      "Type here: I smile and grin. I am sad and mad.\n"
     ]
    },
    {
     "name": "stdout",
     "output_type": "stream",
     "text": [
      "I :) and :D. I am :(( and >:(.\n"
     ]
    }
   ],
   "source": [
    "e = input (\"Type here:\")\n",
    "\n",
    "def emotify (e):\n",
    "    e = e.replace (\"smile\",\":)\")\n",
    "    e = e.replace (\"grin\",\":D\")\n",
    "    e = e.replace (\"sad\",\":((\")\n",
    "    e = e.replace (\"mad\",\">:(\")\n",
    "    return e\n",
    "print (emotify(e))"
   ]
  },
  {
   "cell_type": "markdown",
   "id": "71bc39df-3643-42cc-855d-e8c560b5d3cc",
   "metadata": {},
   "source": [
    "#### __3. UNPACKING LIST PROBLEM__: Unpack the list write your code here into three variables, being first, middle, and last, with middle being everything in between the first and last element. Then print all three variables."
   ]
  },
  {
   "cell_type": "code",
   "execution_count": 48,
   "id": "966fb1bc-df2c-4f08-9e88-5b4dcae23051",
   "metadata": {},
   "outputs": [
    {
     "name": "stdout",
     "output_type": "stream",
     "text": [
      "first: purple    middle: ['baby pink', 'baby blue', 'white', 'black']    last: blue gray\n"
     ]
    }
   ],
   "source": [
    "c = [\"purple\",\"baby pink\",\"baby blue\",\"white\",\"black\",\"blue gray\"]\n",
    "print(\"first:\",c[0], \"   middle:\",c[1:-1], \"   last:\",c[-1])"
   ]
  }
 ],
 "metadata": {
  "kernelspec": {
   "display_name": "Python 3 (ipykernel)",
   "language": "python",
   "name": "python3"
  },
  "language_info": {
   "codemirror_mode": {
    "name": "ipython",
    "version": 3
   },
   "file_extension": ".py",
   "mimetype": "text/x-python",
   "name": "python",
   "nbconvert_exporter": "python",
   "pygments_lexer": "ipython3",
   "version": "3.12.4"
  }
 },
 "nbformat": 4,
 "nbformat_minor": 5
}
